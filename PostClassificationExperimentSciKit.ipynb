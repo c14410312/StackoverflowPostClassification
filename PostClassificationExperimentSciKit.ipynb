{
 "cells": [
  {
   "cell_type": "markdown",
   "metadata": {},
   "source": [
    "# Post classification Experiment using Scikit learn\n",
    "\n",
    "* Date 20/02/18\n",
    "* Dylan Butler\n",
    "\n",
    "## Task\n",
    "The overall task of this experiment is to create a trained classifier to correctly classify whether or not a post is useful for quizes and knowledge testing of Java core concepts.\n",
    "\n",
    "## Data\n",
    "The data for this experiment consists of a manually labelled dataset of 1500 stackoverflow posts. These posts have been filtered according to the following characteristics:\n",
    "\n",
    "* They posses the structure of either a \"how-to\"(procedural intent) or a \"why\"(casual intent) type of question\n",
    "* They have a minimum score of 7 (post score)\n",
    "* They have not been deleted\n",
    "* They have not been closed\n",
    "* They have an accepted answer\n",
    "\n",
    "After extracting this data I conducted an analysis on the resulting dataset to gain a deeper understanding of the data:\n",
    "\n",
    "### Extracted Data insights\n",
    "* Group 1 (useful for quizzes):\n",
    "    * How to split a string in Java?\n",
    "    * Read and convert an input stream to a string?\n",
    "    * How to read all files in a folder in Java?\n",
    "    * How to round a number to n decimal places in Java?\n",
    "    * How to parse JSON in Java?\n",
    "    * How do I declare and initialize an array in Java?\n",
    "    * Why is it faster to process an unsorted array vs a sorted array\n",
    "    * How do I compare strings in Java?\n",
    "* Group 2 (not useful fr quizzes):\n",
    "    * How do I fix android.os.NetworkOnMainThreadException?\n",
    "    * How do you assert that a certain exception is thrown in JUnit 4 tests?\n",
    "    * How to fix java.lang.UnsupportedClassVersionError: Unsupported major.minor version\n",
    "    * How to add local jar files to a Maven project?\n",
    "    * How do I set up IntelliJ IDEA for Android applications?\n",
    "    * How does autowiring work in Spring?\n",
    "    * How do I tell Maven to use the latest version of a dependency?\n",
    "    * Unfortunately MyApp has stopped. How can I solve this?\n",
    "    * Why is subtracting these two times (in 1927) giving a strange result?\n",
    "\n",
    "### Key Findings\n",
    "* Useless Q's\n",
    "    * A key difference I can spot is that most of the questions that pose no use are environment, framework, related and focus on a technology that uses Java.\n",
    "    * Verbs like; set-up, fix, stopped ... i.e. less java specific and more generic - used in everyday language. \n",
    "* Useful Q's\n",
    "    * The useful questions seem to be following a pattern in which the main words in the questions (split, string, read, java, JSON, declare, initialize) are all words closely related to Java and programming concepts in general.  \n",
    "    * The verbs/action words used in the useful q's are closely associated with java itself.\n",
    "    \n",
    "    \n",
    "# Experiment Process\n",
    "\n",
    "1. Chunk tags and titles and bodies into a single body\n",
    "    * eliminate code snippets \n",
    "    * remove stop words\n",
    "    * lemmatise each body\n",
    "2. Extract the core features from the text that the algorithm can learn from\n",
    "3. Train a classifier\n",
    "4. Evaluate\n",
    "5. Improve results"
   ]
  },
  {
   "cell_type": "code",
   "execution_count": null,
   "metadata": {
    "collapsed": true
   },
   "outputs": [],
   "source": []
  }
 ],
 "metadata": {
  "kernelspec": {
   "display_name": "Python 3",
   "language": "python",
   "name": "python3"
  },
  "language_info": {
   "codemirror_mode": {
    "name": "ipython",
    "version": 3
   },
   "file_extension": ".py",
   "mimetype": "text/x-python",
   "name": "python",
   "nbconvert_exporter": "python",
   "pygments_lexer": "ipython3",
   "version": "3.6.3"
  }
 },
 "nbformat": 4,
 "nbformat_minor": 2
}
