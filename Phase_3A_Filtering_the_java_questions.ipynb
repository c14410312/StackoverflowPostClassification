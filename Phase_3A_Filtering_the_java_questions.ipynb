{
 "cells": [
  {
   "cell_type": "markdown",
   "metadata": {},
   "source": [
    "# Classifying the Java Posts from SO\n",
    "\n",
    "* Dylan Butler\n",
    "* 26/02/18\n",
    "\n",
    "## Overview\n",
    "This notebook will document the process of classifying new data which contains all the Java tagged how-to and why questions from stackoverflow into two categories: OK (1) for quizzes or NOT OK (0) for quizzes. A pipeline of processes will be created to automate preprocessing the raw data, inserting it into the model and storing the OK posts for the application to work off. \n",
    "\n",
    "## Process\n",
    "1. Load the data into a dataframe\n",
    "2. Preprocess the data:\n",
    "    * Clean the tags\n",
    "    * Chunk the title and tags into a single column\n",
    "3. Passing each instance into the trained model and labelling with 1(OK) or 0 (NOT OK)\n",
    "4. Discard all NOT OK posts\n",
    "5. Save postID, Title, Tags and Accepted Answer to a PostgreSQL DB "
   ]
  },
  {
   "cell_type": "markdown",
   "metadata": {},
   "source": [
    "# 1) Load the data"
   ]
  },
  {
   "cell_type": "code",
   "execution_count": 1,
   "metadata": {
    "collapsed": true
   },
   "outputs": [],
   "source": [
    "import pandas as pd\n",
    "df = pd.read_csv('./data/StackoverflowCompleteDS_JAVA.csv')"
   ]
  },
  {
   "cell_type": "markdown",
   "metadata": {},
   "source": [
    "# 2) Preprocess the data"
   ]
  },
  {
   "cell_type": "code",
   "execution_count": 2,
   "metadata": {
    "collapsed": true
   },
   "outputs": [],
   "source": [
    "df = df[['Id', 'Title','Body','Tags', 'body']]"
   ]
  },
  {
   "cell_type": "code",
   "execution_count": 3,
   "metadata": {},
   "outputs": [
    {
     "data": {
      "text/html": [
       "<div>\n",
       "<style>\n",
       "    .dataframe thead tr:only-child th {\n",
       "        text-align: right;\n",
       "    }\n",
       "\n",
       "    .dataframe thead th {\n",
       "        text-align: left;\n",
       "    }\n",
       "\n",
       "    .dataframe tbody tr th {\n",
       "        vertical-align: top;\n",
       "    }\n",
       "</style>\n",
       "<table border=\"1\" class=\"dataframe\">\n",
       "  <thead>\n",
       "    <tr style=\"text-align: right;\">\n",
       "      <th></th>\n",
       "      <th>Id</th>\n",
       "      <th>Title</th>\n",
       "      <th>Body</th>\n",
       "      <th>Tags</th>\n",
       "      <th>body</th>\n",
       "    </tr>\n",
       "  </thead>\n",
       "  <tbody>\n",
       "    <tr>\n",
       "      <th>0</th>\n",
       "      <td>5328</td>\n",
       "      <td>Why can't I use a try block around my super() ...</td>\n",
       "      <td>&lt;p&gt;So, in Java, the first line of your constru...</td>\n",
       "      <td>&lt;java&gt;&lt;exception&gt;&lt;mocking&gt;&lt;try-catch&gt;</td>\n",
       "      <td>&lt;p&gt;Unfortunately, compilers can't work on theo...</td>\n",
       "    </tr>\n",
       "    <tr>\n",
       "      <th>1</th>\n",
       "      <td>15690</td>\n",
       "      <td>How do you begin designing a large system?</td>\n",
       "      <td>&lt;p&gt;It's been mentioned to me that I'll be the ...</td>\n",
       "      <td>&lt;java&gt;&lt;oop&gt;&lt;design&gt;&lt;architecture&gt;</td>\n",
       "      <td>&lt;p&gt;Do you know much about OOP?  If so, look in...</td>\n",
       "    </tr>\n",
       "    <tr>\n",
       "      <th>2</th>\n",
       "      <td>24866</td>\n",
       "      <td>Is it essential that I use libraries to manipu...</td>\n",
       "      <td>&lt;p&gt;I am using Java back end for creating an XM...</td>\n",
       "      <td>&lt;java&gt;&lt;xml&gt;</td>\n",
       "      <td>&lt;p&gt;It's not essential, but advisable. However,...</td>\n",
       "    </tr>\n",
       "    <tr>\n",
       "      <th>3</th>\n",
       "      <td>25449</td>\n",
       "      <td>How to create a pluginable Java program?</td>\n",
       "      <td>&lt;p&gt;I want to create a Java program that can be...</td>\n",
       "      <td>&lt;java&gt;&lt;plugins&gt;&lt;plugin-architecture&gt;</td>\n",
       "      <td>&lt;p&gt;I've done this for software I've written in...</td>\n",
       "    </tr>\n",
       "    <tr>\n",
       "      <th>4</th>\n",
       "      <td>24991</td>\n",
       "      <td>Why can't I explicitly pass the type argument ...</td>\n",
       "      <td>&lt;p&gt;I have defined a Java function:&lt;/p&gt;\\n\\n&lt;pre...</td>\n",
       "      <td>&lt;java&gt;&lt;generics&gt;&lt;syntax&gt;</td>\n",
       "      <td>&lt;p&gt;When the java compiler cannot infer the par...</td>\n",
       "    </tr>\n",
       "  </tbody>\n",
       "</table>\n",
       "</div>"
      ],
      "text/plain": [
       "      Id                                              Title  \\\n",
       "0   5328  Why can't I use a try block around my super() ...   \n",
       "1  15690         How do you begin designing a large system?   \n",
       "2  24866  Is it essential that I use libraries to manipu...   \n",
       "3  25449           How to create a pluginable Java program?   \n",
       "4  24991  Why can't I explicitly pass the type argument ...   \n",
       "\n",
       "                                                Body  \\\n",
       "0  <p>So, in Java, the first line of your constru...   \n",
       "1  <p>It's been mentioned to me that I'll be the ...   \n",
       "2  <p>I am using Java back end for creating an XM...   \n",
       "3  <p>I want to create a Java program that can be...   \n",
       "4  <p>I have defined a Java function:</p>\\n\\n<pre...   \n",
       "\n",
       "                                    Tags  \\\n",
       "0  <java><exception><mocking><try-catch>   \n",
       "1      <java><oop><design><architecture>   \n",
       "2                            <java><xml>   \n",
       "3   <java><plugins><plugin-architecture>   \n",
       "4               <java><generics><syntax>   \n",
       "\n",
       "                                                body  \n",
       "0  <p>Unfortunately, compilers can't work on theo...  \n",
       "1  <p>Do you know much about OOP?  If so, look in...  \n",
       "2  <p>It's not essential, but advisable. However,...  \n",
       "3  <p>I've done this for software I've written in...  \n",
       "4  <p>When the java compiler cannot infer the par...  "
      ]
     },
     "execution_count": 3,
     "metadata": {},
     "output_type": "execute_result"
    }
   ],
   "source": [
    "df.head()"
   ]
  },
  {
   "cell_type": "markdown",
   "metadata": {},
   "source": [
    "## a) Clean the tags"
   ]
  },
  {
   "cell_type": "code",
   "execution_count": 4,
   "metadata": {
    "collapsed": true
   },
   "outputs": [],
   "source": [
    "def clean_tags(raw_tags):\n",
    "    cleaned_tags = raw_tags.replace('>', \" \").replace('<', \" \").replace('java', '')\n",
    "    return cleaned_tags\n",
    "\n",
    "for index, row in df.iterrows():\n",
    "    cleaned_tags = clean_tags(df.loc[index, 'Tags'])\n",
    "    df.loc[index, 'Tags'] = cleaned_tags"
   ]
  },
  {
   "cell_type": "markdown",
   "metadata": {},
   "source": [
    "## b) Chunking the title and tags per post"
   ]
  },
  {
   "cell_type": "code",
   "execution_count": 5,
   "metadata": {
    "collapsed": true
   },
   "outputs": [],
   "source": [
    "df['title_tag_chunk'] = df[df.columns[1:3]].apply(lambda x: ','.join(x),axis=1)"
   ]
  },
  {
   "cell_type": "markdown",
   "metadata": {},
   "source": [
    "# 3) Load the Trained NaiveBayes Model and Filter Dataset"
   ]
  },
  {
   "cell_type": "code",
   "execution_count": 6,
   "metadata": {
    "collapsed": true
   },
   "outputs": [],
   "source": [
    "import pickle\n",
    "trained_NB_model = pickle.load(open('./models/multinomialnb_classifier_ngrams_title_tag.sav', 'rb'))"
   ]
  },
  {
   "cell_type": "markdown",
   "metadata": {},
   "source": [
    "## a) Test out approach on sample of data set and analyse results"
   ]
  },
  {
   "cell_type": "code",
   "execution_count": 7,
   "metadata": {
    "collapsed": true
   },
   "outputs": [],
   "source": [
    "import numpy as np"
   ]
  },
  {
   "cell_type": "code",
   "execution_count": 8,
   "metadata": {
    "collapsed": true
   },
   "outputs": [],
   "source": [
    "tmp_df = df[50:100]"
   ]
  },
  {
   "cell_type": "code",
   "execution_count": 10,
   "metadata": {},
   "outputs": [],
   "source": [
    "test_list = list(tmp_df['title_tag_chunk'])"
   ]
  },
  {
   "cell_type": "code",
   "execution_count": 11,
   "metadata": {},
   "outputs": [
    {
     "data": {
      "text/plain": [
       "50"
      ]
     },
     "execution_count": 11,
     "metadata": {},
     "output_type": "execute_result"
    }
   ],
   "source": [
    "len(trained_NB_model.predict(test_list))"
   ]
  },
  {
   "cell_type": "code",
   "execution_count": 12,
   "metadata": {
    "collapsed": true
   },
   "outputs": [],
   "source": [
    "for l in test_list:\n",
    "    prediction = trained_NB_model.predict([l])\n",
    "    #print(\"Question: {}\\n Prediciton: {}\\n\".format(l, prediction))"
   ]
  },
  {
   "cell_type": "markdown",
   "metadata": {},
   "source": [
    "## b) - Filter the entire dataset"
   ]
  },
  {
   "cell_type": "code",
   "execution_count": 13,
   "metadata": {
    "collapsed": true
   },
   "outputs": [],
   "source": [
    "#create the target column\n",
    "df['OK'] = None\n",
    "\n",
    "#iterates over the dataframe\n",
    "for index, row in df.iterrows():\n",
    "    \n",
    "    #extract the correct data to feed model\n",
    "    data = df.loc[index, 'title_tag_chunk']\n",
    "    #predicts whether or not it is ok\n",
    "    prediction = trained_NB_model.predict([data])\n",
    "    #saves prediction to row\n",
    "    df.loc[index, 'OK'] = prediction"
   ]
  },
  {
   "cell_type": "code",
   "execution_count": 14,
   "metadata": {},
   "outputs": [
    {
     "data": {
      "text/plain": [
       "10728"
      ]
     },
     "execution_count": 14,
     "metadata": {},
     "output_type": "execute_result"
    }
   ],
   "source": [
    "df.OK.count()"
   ]
  },
  {
   "cell_type": "code",
   "execution_count": 22,
   "metadata": {
    "collapsed": true
   },
   "outputs": [],
   "source": [
    "#df"
   ]
  },
  {
   "cell_type": "code",
   "execution_count": 15,
   "metadata": {
    "collapsed": true
   },
   "outputs": [],
   "source": [
    "df['OK'] = df['OK'].str.get(0)"
   ]
  },
  {
   "cell_type": "code",
   "execution_count": 16,
   "metadata": {
    "collapsed": true
   },
   "outputs": [],
   "source": [
    "df_ok = df[df.OK == 1]"
   ]
  },
  {
   "cell_type": "code",
   "execution_count": 17,
   "metadata": {
    "collapsed": true
   },
   "outputs": [],
   "source": [
    "df_ok = df_ok.drop(['title_tag_chunk', 'OK'], axis=1)"
   ]
  },
  {
   "cell_type": "code",
   "execution_count": 26,
   "metadata": {},
   "outputs": [],
   "source": [
    "test_list = list(df_ok.Tags.head(10))"
   ]
  },
  {
   "cell_type": "code",
   "execution_count": 51,
   "metadata": {},
   "outputs": [],
   "source": [
    "#df_ok"
   ]
  },
  {
   "cell_type": "code",
   "execution_count": 47,
   "metadata": {
    "collapsed": true
   },
   "outputs": [],
   "source": [
    "df_ok.to_csv('./data/filtered_data_ready_for_app.csv', index=False)"
   ]
  },
  {
   "cell_type": "code",
   "execution_count": 48,
   "metadata": {},
   "outputs": [
    {
     "data": {
      "text/plain": [
       "'\\nfor item in list(df_ok.Title):\\n    print(item)\\n'"
      ]
     },
     "execution_count": 48,
     "metadata": {},
     "output_type": "execute_result"
    }
   ],
   "source": [
    "'''\n",
    "for item in list(df_ok.Title):\n",
    "    print(item)\n",
    "'''"
   ]
  },
  {
   "cell_type": "code",
   "execution_count": null,
   "metadata": {},
   "outputs": [],
   "source": []
  },
  {
   "cell_type": "code",
   "execution_count": null,
   "metadata": {},
   "outputs": [],
   "source": []
  },
  {
   "cell_type": "code",
   "execution_count": null,
   "metadata": {
    "collapsed": true
   },
   "outputs": [],
   "source": []
  }
 ],
 "metadata": {
  "kernelspec": {
   "display_name": "Python 3",
   "language": "python",
   "name": "python3"
  },
  "language_info": {
   "codemirror_mode": {
    "name": "ipython",
    "version": 3
   },
   "file_extension": ".py",
   "mimetype": "text/x-python",
   "name": "python",
   "nbconvert_exporter": "python",
   "pygments_lexer": "ipython3",
   "version": "3.6.1"
  }
 },
 "nbformat": 4,
 "nbformat_minor": 2
}
