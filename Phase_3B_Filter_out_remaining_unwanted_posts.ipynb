{
 "cells": [
  {
   "cell_type": "markdown",
   "metadata": {},
   "source": [
    "# Filter out the remaining unwanted posts\n",
    "\n",
    "Due to the fact that I trained the classification model to an accuracy of 86%, I will be left with roughly 14% unwanted posts in my dataset. These unwanted posts related to languages such as c#, scala and frameworks/ide's such as android and eclipse\n",
    "\n",
    "This notebook will document the following approach:\n",
    "1. Gather two lists:\n",
    "    * All programming languages\n",
    "    * All frameworks and IDE's related to JAVA\n",
    "2. Iterate through each of the posts that have been filtered using the classifier \n",
    "    * if any words in either of the lists appear in the list of tags associated with a post drop the given row\n",
    "3. Save the resulting dataframe as a CSV"
   ]
  },
  {
   "cell_type": "markdown",
   "metadata": {},
   "source": [
    "# Filtering Process"
   ]
  },
  {
   "cell_type": "markdown",
   "metadata": {},
   "source": [
    "## 1) Loading programming languages and frameworks lists "
   ]
  },
  {
   "cell_type": "code",
   "execution_count": 26,
   "metadata": {},
   "outputs": [],
   "source": [
    "java_frameworks_list = []\n",
    "with open('./data/java_frameworks.txt') as file:\n",
    "    for line in file:\n",
    "        line = line.replace(' ', '')\n",
    "        java_frameworks_list.append(line.lower().strip())"
   ]
  },
  {
   "cell_type": "code",
   "execution_count": 39,
   "metadata": {},
   "outputs": [],
   "source": [
    "program_lang_list = []\n",
    "with open('./data/programming_languages_list.txt') as file:\n",
    "    for line in file:\n",
    "        line = line.replace('-', '').replace(' ', '').replace('/', '').replace('(', '').replace(')', '').strip()\n",
    "        program_lang_list.append(line.lower())"
   ]
  },
  {
   "cell_type": "markdown",
   "metadata": {},
   "source": [
    "## 2) Remove all posts that include the tags in both lists above (alternative languages to java, related to ide's frameworks)"
   ]
  },
  {
   "cell_type": "code",
   "execution_count": 42,
   "metadata": {},
   "outputs": [],
   "source": [
    "import pandas as pd\n",
    "df = pd.read_csv('./data/filtered_data_ready_for_app.csv')"
   ]
  },
  {
   "cell_type": "code",
   "execution_count": 46,
   "metadata": {},
   "outputs": [
    {
     "data": {
      "text/plain": [
       "(5118, 5)"
      ]
     },
     "execution_count": 46,
     "metadata": {},
     "output_type": "execute_result"
    }
   ],
   "source": [
    "df.shape"
   ]
  },
  {
   "cell_type": "code",
   "execution_count": 69,
   "metadata": {},
   "outputs": [],
   "source": [
    "count = 0\n",
    "for index, row in df.iterrows():\n",
    "    found = False\n",
    "    #extract tags from each row\n",
    "    post_tags = df.loc[index, 'Tags'].split()\n",
    "    #check if the tags are present in stop lists (frameworks, other languages)\n",
    "    for tag in post_tags:\n",
    "        tag = tag.replace('-', '')\n",
    "        #if an unwanted tag found - remove from the dataframe\n",
    "        if tag in program_lang_list or tag in java_frameworks_list:\n",
    "            found = True\n",
    "    if found:\n",
    "        df.drop(index, inplace=True)\n",
    "        #df.drop(df.index[i], inplace=True)"
   ]
  },
  {
   "cell_type": "code",
   "execution_count": 71,
   "metadata": {},
   "outputs": [],
   "source": [
    "df.to_csv('./data/filtered_cleaned_posts_no_frameworks_no_alt_lang.csv', index=False)"
   ]
  },
  {
   "cell_type": "code",
   "execution_count": 70,
   "metadata": {
    "scrolled": true
   },
   "outputs": [
    {
     "data": {
      "text/plain": [
       "(4212, 5)"
      ]
     },
     "execution_count": 70,
     "metadata": {},
     "output_type": "execute_result"
    }
   ],
   "source": [
    "#size of resulting dataset\n",
    "df.shape"
   ]
  },
  {
   "cell_type": "markdown",
   "metadata": {},
   "source": [
    "# Experiment Complete\n",
    "The posts have been refined to exclude any posts which relate to alternative languages/ Frameworks such as C++, Groovy, Android, Eclipse etc. and saved to a file called --> './data/filtered_cleaned_posts_no_frameworks_no_alt_lang.csv'"
   ]
  },
  {
   "cell_type": "code",
   "execution_count": null,
   "metadata": {
    "collapsed": true
   },
   "outputs": [],
   "source": []
  }
 ],
 "metadata": {
  "kernelspec": {
   "display_name": "Python 3",
   "language": "python",
   "name": "python3"
  },
  "language_info": {
   "codemirror_mode": {
    "name": "ipython",
    "version": 3
   },
   "file_extension": ".py",
   "mimetype": "text/x-python",
   "name": "python",
   "nbconvert_exporter": "python",
   "pygments_lexer": "ipython3",
   "version": "3.6.1"
  }
 },
 "nbformat": 4,
 "nbformat_minor": 2
}
