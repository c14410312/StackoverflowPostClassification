{
 "cells": [
  {
   "cell_type": "code",
   "execution_count": 1,
   "metadata": {},
   "outputs": [
    {
     "name": "stdout",
     "output_type": "stream",
     "text": [
      "[nltk_data] Downloading package stopwords to\n",
      "[nltk_data]     /home/dbutler/nltk_data...\n",
      "[nltk_data]   Package stopwords is already up-to-date!\n"
     ]
    }
   ],
   "source": [
    "import nltk\n",
    "from nltk.corpus import stopwords\n",
    "nltk.download('stopwords')\n",
    "stopWords = set(stopwords.words('english'))"
   ]
  },
  {
   "cell_type": "code",
   "execution_count": 2,
   "metadata": {
    "collapsed": true
   },
   "outputs": [],
   "source": [
    "new_topic = True\n",
    "java_topic_dict = {}\n",
    "java_topic = ''\n",
    "tmp_list = []\n",
    "\n",
    "\n",
    "with open('./data/javatopicsfile.txt', 'r') as file:\n",
    "    for line in file:   \n",
    "        \n",
    "        if line in '\\n':\n",
    "                #append the set(list) to dictionary\n",
    "                java_topic_dict[java_topic] = set(tmp_list)\n",
    "                #reinitialise all variables\n",
    "                tmp_list = []\n",
    "                new_topic = True\n",
    "                continue\n",
    "                \n",
    "        #if a new topic detected - create a new dictionary key\n",
    "        if new_topic:\n",
    "            #assign the current line to be the java topic\n",
    "            java_topic = line.strip().lower()\n",
    "            new_topic = False\n",
    "            continue\n",
    "        \n",
    "        #split each line into individual words and append\n",
    "        for el in line.split():\n",
    "            #stopword removal\n",
    "            if el not in stopWords:\n",
    "                tmp_list.append(el.lower())"
   ]
  },
  {
   "cell_type": "code",
   "execution_count": null,
   "metadata": {
    "collapsed": true
   },
   "outputs": [],
   "source": []
  }
 ],
 "metadata": {
  "kernelspec": {
   "display_name": "Python 3",
   "language": "python",
   "name": "python3"
  },
  "language_info": {
   "codemirror_mode": {
    "name": "ipython",
    "version": 3
   },
   "file_extension": ".py",
   "mimetype": "text/x-python",
   "name": "python",
   "nbconvert_exporter": "python",
   "pygments_lexer": "ipython3",
   "version": "3.6.1"
  }
 },
 "nbformat": 4,
 "nbformat_minor": 2
}
