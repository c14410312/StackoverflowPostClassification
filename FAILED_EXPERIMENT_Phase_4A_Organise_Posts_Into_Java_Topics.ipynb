{
 "cells": [
  {
   "cell_type": "code",
   "execution_count": 1,
   "metadata": {},
   "outputs": [
    {
     "name": "stdout",
     "output_type": "stream",
     "text": [
      "[nltk_data] Downloading package stopwords to\n",
      "[nltk_data]     /home/dbutler/nltk_data...\n",
      "[nltk_data]   Package stopwords is already up-to-date!\n"
     ]
    }
   ],
   "source": [
    "import nltk\n",
    "from nltk.corpus import stopwords\n",
    "nltk.download('stopwords')\n",
    "stopWords = set(stopwords.words('english'))"
   ]
  },
  {
   "cell_type": "code",
   "execution_count": 26,
   "metadata": {
    "collapsed": true
   },
   "outputs": [],
   "source": [
    "new_topic = True\n",
    "java_topic_dict = {}\n",
    "java_topic = ''\n",
    "tmp_list = []\n",
    "\n",
    "\n",
    "with open('./data/javatopicsfile.txt', 'r') as file:\n",
    "    for line in file:   \n",
    "        \n",
    "        if line in '\\n':\n",
    "                #append the set(list) to dictionary\n",
    "                java_topic_dict[java_topic] = set(tmp_list)\n",
    "                #reinitialise all variables\n",
    "                tmp_list = []\n",
    "                new_topic = True\n",
    "                continue\n",
    "                \n",
    "        #if a new topic detected - create a new dictionary key\n",
    "        if new_topic:\n",
    "            #assign the current line to be the java topic\n",
    "            java_topic = line.strip().lower()\n",
    "            new_topic = False\n",
    "            continue\n",
    "        \n",
    "        #split each line into individual words and append\n",
    "        for el in line.split():\n",
    "            #stopword removal\n",
    "            if el not in stopWords:\n",
    "                tmp_list.append(el.lower().replace('-', ''))"
   ]
  },
  {
   "cell_type": "code",
   "execution_count": 27,
   "metadata": {},
   "outputs": [],
   "source": [
    "java_topic_keys = list(java_topic_dict.keys())"
   ]
  },
  {
   "cell_type": "markdown",
   "metadata": {},
   "source": [
    "## Produces 25 topics - and their resulting subtopics"
   ]
  },
  {
   "cell_type": "code",
   "execution_count": 28,
   "metadata": {},
   "outputs": [
    {
     "name": "stdout",
     "output_type": "stream",
     "text": [
      "data types, variables, and arrays\n",
      "{'java’s', 'character', 'characters', 'conversions', 'boolean', 'arrays', 'a', 'array', 'is', 'integers', 'note', 'alternative', 'syntax', 'initialization', 'onedimensional', 'expressions', 'java', 'typed', 'closer', 'declaration', 'multidimensional', 'promotion', 'floatingpoint', 'programmers', 'pointers', 'float', 'variable', 'rules', 'primitive', 'few', 'strongly', 'booleans', 'variables', 'lifetime', 'short', 'about', 'literals', 'type', 'declaring', 'conversion', 'the', 'language', 'incompatible', 'strings', 'words', 'byte', 'string', 'double', 'c/c++', 'types', 'integer', 'scope', 'casting', 'long', 'look', 'int', 'automatic', 'dynamic'}\n",
      "\n",
      "\n",
      "operators\n",
      "{'relational', 'boolean', 'bitwise', 'unsigned', 'operator', 'parentheses', 'shortcircuit', 'assignment', 'decrement', 'modulus', '?', 'basic', 'arithmetic', 'increment', 'left', 'assignments', 'right', 'operators', 'the', 'using', 'shift', 'compound', 'logical', 'precedence'}\n",
      "\n",
      "\n",
      "control statements\n",
      "{'break', 'continue', 'java’s', 'iteration', 'using', 'statements', 'loops', 'loop', 'nested', 'dowhile', 'foreach', 'return', 'selection', 'version', 'jump', 'the', 'switch'}\n",
      "\n",
      "\n",
      "methods and classes\n",
      "{'collection', 'overloading', 'revisited', 'methods', 'vararg', 'class', 'box', 'object', 'access', 'adding', 'arrays', 'a', 'contents', 'ix', 'arguments', 'finalize(', 'objects', 'argument', 'control', 'new', 'commandline', 'static', 'value', 'closer', 'classes', 'varargs', 'instance', 'variablelength', 'keyword', 'hiding', 'recursion', 'exploring', 'varargs:', 'variable', 'assigning', 'form', 'variables', 'that', 'final', 'garbage', 'simple', ')', 'fundamentals', 'constructors', 'declaring', 'passing', 'the', 'ambiguity', 'returning', 'takes', 'introducing', 'understanding', 'stack', 'parameters', 'using', 'inner', 'string', 'general', 'parameterized', 'reference', 'nested', 'look', 'method'}\n",
      "\n",
      "\n",
      "inheritance\n",
      "{'class', 'called', 'object', 'access', 'a', 'call', 'member', 'classes', 'multilevel', 'superclass', 'example', 'super', 'hierarchy', 'overridden', 'variable', 'applying', 'creating', 'more', 'prevent', 'subclass', 'practical', 'final', 'abstract', 'overriding', 'constructors', 'the', 'can', 'dispatch', 'are', 'when', 'second', 'methods?', 'basics', 'inheritance', 'using', 'use', 'reference', 'method', 'why', 'dynamic'}\n",
      "\n",
      "\n",
      "packages and interfaces\n",
      "{'access', 'be', 'a', 'implementing', 'finding', 'package', 'example', 'interface', 'applying', 'defining', 'variables', 'an', 'importing', 'short', 'interfaces', 'can', 'classpath', 'extended', 'packages', 'protection', 'nested'}\n",
      "\n",
      "\n",
      "exception handling\n",
      "{'java’s', 'your', 'throws', 'exception', 'throw', 'builtin', 'clauses', 'finally', 'catch', 'try', 'creating', 'uncaught', 'displaying', 'statements', 'multiple', 'own', 'using', 'exceptionhandling', 'subclasses', 'nested', 'types', 'fundamentals', 'exceptions', 'description', 'chained'}\n",
      "\n",
      "\n",
      "multithreaded programming\n",
      "{'methods', 'class', 'runnable', 'choosing', 'contents', 'modern', 'multithreading', 'isalive(', 'resuming,', 'java', 'threads', 'implementing', 'thread', 'stopping', 'approach', 'earlier', 'interface', 'extending', 'interthread', 'deadlock', 'communication', 'synchronization', 'creating', 'xi', 'model', 'priorities', 'main', 'multiple', ')', 'the', 'join(', 'way', 'messaging', 'statement', 'using', 'synchronized', 'suspending,'}\n",
      "\n",
      "\n",
      "enumerations, autoboxing, and annotations\n",
      "{'autoboxing', 'methods', 'character', 'run', 'class', 'boolean', '(metadata)', 'some', 'autoboxing/unboxing', 'a', 'enumeration', 'annotatedelement', 'values(', 'enumerations', 'expressions', 'java', 'obtaining', 'builtin', 'annotation', 'inherit', 'warning', 'valueof(', 'example', 'interface', 'occurs', 'prevent', 'helps', 'wrappers', 'word', 'another', 'default', ')', 'policy', 'singlemember', 'type', 'the', 'are', 'retention', 'enum', 'basics', 'errors', 'using', 'use', 'marker', 'reflection', 'types', 'values', 'specifying', 'time', 'fundamentals', 'restrictions', 'annotations'}\n",
      "\n",
      "\n",
      "i/o, applets, and other topics\n",
      "{'methods', 'character', 'characters', 'class', 'invoking', 'modifiers', 'console', 'disabling', 'problems', 'import', 'transient', 'input', 'assert', 'output', 'static', 'assertion', 'i/o', 'strictfp', 'enabling', 'instanceof', 'overloaded', 'writing', 'this(', 'reading', ')', 'constructors', 'strings', 'options', 'the', 'predefined', 'printwriter', 'through', 'basics', 'applet', 'byte', 'streams', 'using', 'files', 'volatile', 'fundamentals', 'native'}\n",
      "\n",
      "\n",
      "generics\n",
      "{'methods', 'class', 'some', 'can’t', 'be', 'a', 'arguments', 'runtime', 'array', 'thoughts', 'objects', 'exception', 'code', 'members', 'bridge', 'only', 'static', 'raw', 'how', 'generics?', 'improve', 'their', 'safety', 'legacy', 'superclass', 'example', 'hierarchy', 'work', 'creating', 'form', 'subclass', 'two', 'what', 'comparisons', 'final', 'wildcard', 'simple', 'instantiated', 'overriding', 'erasure', 'constructors', 'type', 'the', 'wildcards', 'interfaces', 'ambiguity', 'restriction', 'are', 'differ', 'generic', 'within', 'errors', 'generics', 'parameters', 'using', 'hierarchies', 'general', 'restrictions', 'types', 'casting', 'method', 'based', 'bounded'}\n",
      "\n",
      "\n",
      "string handling\n",
      "{'comparison', 'additional', 'methods', 'character', 'characters', '==', 'trim(', 'equalsignorecase(', 'setlength(', 'capacity(', 'substring(', 'startswith(', 'getbytes(', 'changing', 'ensurecapacity(', 'stringbuilder', 'other', 'modifying', 'append(', 'valueof(', 'operations', 'deletecharat(', 'reverse(', 'concat(', 'replace(', 'compareto(', 'special', 'extraction', 'regionmatches(', 'length(', 'searching', ')', 'literals', 'tochararray(', 'length', 'charat(', 'constructors', 'conversion', 'equals(', 'strings', 'the', 'getchars(', 'data', 'case', 'setcharat(', 'within', 'using', 'string', 'stringbuffer', 'insert(', 'concatenation', 'types', 'delete(', 'endswith(', 'tostring(', 'versus'}\n",
      "\n",
      "\n",
      "exploring javalang\n",
      "{'subpackages', 'methods', 'character', 'cloneable', 'class', 'javalangmanagement', 'boolean', 'runnable', 'object', 'comparable', 'stacktraceelement', 'classloader', 'program', 'rounding', 'runtime', 'byte,', 'javalangref', 'miscellaneous', 'unicode', 'javalangreflect', 'code', 'number', 'management', 'short,', 'properties', 'other', 'thread,', 'threadgroup,', 'inheritablethreadlocal', 'throwable', 'programs', 'thread', 'securitymanager', 'package', 'clone(', 'exponential', 'iterable', 'interface', 'functions', 'runtimepermission', 'float', 'appendable', 'primitive', 'wrappers', 'currenttimemillis(', 'execution', 'executing', 'charsequence', 'math', 'environment', 'support', ')', 'javalanginstrument', 'void', 'type', 'recent', 'the', 'threadlocal', 'process', 'integer,', 'arraycopy(', 'javalangannotation', 'additions', 'memory', 'transcendental', 'enum', 'using', 'strictmath', 'readable', 'double', 'system', 'processbuilder', 'time', 'long', 'threadgroup', 'compiler', 'javalang', 'point'}\n",
      "\n",
      "\n",
      "the collections framework\n",
      "{'changes', 'autoboxing', 'collection', 'via', 'class', 'storing', 'set', 'iterators', 'linkedhashset', 'arrays', 'thoughts', 'working', 'enumeration', 'alternative', 'navigableset', 'loop', 'properties', 'fundamentally', 'accessing', 'sortedset', 'classes', 'list', 'legacy', 'deque', 'collections', 'navigablemap', 'change', 'foreach', 'interface', 'style', 'randomaccess', 'primitive', 'queue', 'overview', 'priorityqueue', 'arraylist', 'linkedlist', 'treeset', ')', 'vector', 'recent', 'userdefined', 'maps', 'interfaces', 'the', 'facilitates', 'comparator', 'framework', 'enumset', 'map', 'comparators', 'collections?', 'generic', 'hashset', 'stack', 'generics', 'using', 'use', 'iterator', 'store(', 'load(', 'arraydeque', 'types', 'hashtable', 'dictionary', 'parting', 'why', 'algorithms'}\n",
      "\n",
      "\n",
      "utility classes\n",
      "{'numbers', 'subpackages', 'specifiers', 'methods', 'javautiljar', 'characters', 'javautilprefs', 'stringtokenizer', 'propertyresourcebundle', 'timezone', 'some', 'javautilconcurrentlocks', 'javautil', 'argument', 'width', 'option', 'miscellaneous', 'simpletimezone', 'timertask', 'java', 'output', 'javautilconcurrentatomic,', 'other', 'flag', 'classes', 'currency', 'calendar', 'resourcebundle,', 'gregoriancalendar', 'justifying', 'example', 'comma', 'interface', 'javautilzip', 'uppercase', '(', 'scanner', 'delimiters', 'features', '+,', 'listresourcebundle,', 'field', 'locale', 'flags', 'an', ',', 'observer', 'formatter', 'space,', ')', 'constructors', 'strings', 'javautilconcurrent,', 'scanning', 'the', 'interfaces', 'bitset', 'observable', 'javautilregex', 'examples', 'javautilspi', 'date', 'javautillogging', 'basics', 'formatting', 'using', 'format', 'index', '%n', '%%', 'minimum', 'precision', 'utility', 'time', 'specifying', 'connection', 'random', 'timer', '#', 'printf(', 'setting'}\n",
      "\n",
      "\n",
      "input/output\n",
      "{'filereader', 'character', 'reader', 'class', 'outputstream', 'fileoutputstream', 'randomaccessfile', 'inputstream', 'console', 'objectoutput', 'chararrayreader', 'a', 'serializable', 'dataoutputstream', 'directories', 'filenamefilter', 'alternative', 'wc(', 'java', 'pushbackreader', 'printstream', 'filewriter', 'i/o', 'classes', 'datainputstream', 'closeable', 'example', 'file', 'fileinputstream', 'bytearrayinputstream', 'objectoutputstream', 'serialization', 'objectinput', 'creating', 'improving', 'flushable', 'bufferedreader', 'filtered', 'benefits', ')', 'bytearrayoutputstream', 'chararraywriter', 'listfiles(', 'interfaces', 'the', 'sequenceinputstream', 'buffered', 'externalizable', 'printwriter', 'streamtokenizer', 'stream', 'using', 'byte', 'streams', 'writer', 'objectinputstream', 'bufferedwriter'}\n",
      "\n",
      "\n",
      "networking\n",
      "{'client', 'factory', 'methods', 'class', 'inetaddress', 'a', 'sockets', 'datagrams', 'classes', 'instance', 'example', 'datagramsocket', 'datagram', 'urlconnection', 'cookies', 'tcp/ip', 'uri', 'the', 'interfaces', 'httpurlconnection', 'url', 'basics', 'datagrampacket', 'networking', 'server'}\n",
      "\n",
      "\n",
      "the applet class\n",
      "{'audioclip', 'methods', 'class', 'update(', 'outputting', 'console', 'a', 'html', 'appletcontext', 'initialization', 'window', 'getcodebase(', 'tag', 'status', 'showdocument(', 'applets', 'requesting', 'interface', 'architecture', 'improving', 'two', 'banner', 'an', 'skeleton', ')', 'simple', 'overriding', 'display', 'passing', 'the', 'appletstub', 'basics', 'applet', 'parameters', 'using', 'termination', 'types', 'repainting', 'getdocumentbase('}\n",
      "\n",
      "\n",
      "event handling\n",
      "{'mouseevent', 'class', 'listener', 'itemevent', 'mousewheelevent', 'containerevent', 'mouse', 'sources', 'events', 'keylistener', 'keyevent', 'keyboard', 'event', 'classes', 'focusevent', 'actionlistener', 'adapter', 'actionevent', 'containerlistener', 'interface', 'mouselistener', 'componentevent', 'textevent', 'anonymous', 'windowlistener', 'windowfocuslistener', 'mechanisms', 'handling', 'two', 'delegation', 'inputevent', 'model', 'adjustmentevent', 'adjustmentlistener', 'mousemotionlistener', 'focuslistener', 'windowevent', 'mousewheellistener', 'the', 'interfaces', 'itemlistener', 'using', 'inner', 'listeners', 'textlistener', 'componentlistener'}\n",
      "\n",
      "\n",
      "file formats\n",
      "{'additional', 'imageobserver', 'fundamentals:', 'pixelgrabber', 'object', 'imagefilter', 'imageconsumer', 'loading', 'cell', 'loading,', 'imaging', 'memoryimagesource', 'buffering', 'classes', 'creating', 'mediatracker', 'displaying', 'creating,', 'cropimagefilter', 'animation', 'double', 'image', 'rgbimagefilter', 'imageproducer'}\n",
      "\n",
      "\n",
      "the concurrency utilities\n",
      "{'callable', 'future', 'java’s', 'utilities', 'api', 'javautilconcurrentlocks', 'a', 'objects', 'enumeration', 'cyclicbarrier', 'exchanger', 'concurrent', 'approach', 'javautilconcurrent', 'example', 'collections', 'locks', 'operations', 'synchronization', 'javautilconcurrentatomic', 'simple', 'timeunit', 'the', 'countdownlatch', 'executor', 'traditional', 'atomic', 'semaphore', 'using', 'packages', 'concurrency', 'versus'}\n",
      "\n",
      "\n",
      "nio, regular expressions, and other packages\n",
      "{'future', 'class', 'simpledateformat', 'api', 'remote', 'core', 'text', 'a', 'is', 'pattern', 'syntax', 'expressions', 'java', 'i/o', 'nio', 'matching', 'charsets', 'exploring', '(rmi)', 'patternmatching', 'invocation', 'expression', 'two', 'matcher', 'simple', 'demonstrating', 'options', 'the', 'selectors', 'rmi', 'application', 'dateformat', 'processing', 'handling?', 'using', 'packages', 'formatting', 'system', 'client/server', 'reflection', 'fundamentals', 'method', 'regular'}\n",
      "\n",
      "\n",
      "java beans\n",
      "{'introspector', 'methods', 'api', 'a', 'is', 'eventsetdescriptor', 'customizers', 'events', 'java', 'properties', 'advantages', 'propertydescriptor', 'bean?', 'beaninfo', 'example', 'interface', 'patterns', 'what', 'constrained', 'methoddescriptor', 'beans', 'introspection', 'bean', 'the', 'persistence', 'design', 'bound', 'using'}\n",
      "\n",
      "\n",
      "swing\n",
      "{'exploration', 'your', 'jtabbedpane', 'jtable', 'a', 'components', 'is', 'painting', 'paint', 'built', 'jcombobox', 'trees', 'jscrollpane', 'compute', 'feel', 'event', 'origins', 'panes', 'container', 'example', 'mvc', 'jbutton', 'supports', 'exploring', 'lightweight', 'features', 'jlist', 'continuing', 'key', 'handling', 'two', 'toplevel', 'area', 'imageicon', 'jlabel', 'buttons', 'simple', 'jtogglebutton', 'fundamentals', 'jtextfield', 'the', 'radio', 'containers', 'swing', 'create', 'are', 'application', 'check', 'awt', 'applet', 'packages', 'pluggable', 'look', 'connection', 'boxes', 'paintable'}\n",
      "\n",
      "\n",
      "servlets\n",
      "{'cycle', 'start', 'class', 'get', 'responses', 'api', 'a', 'httpsessionevent', 'development', 'exception', 'tomcat', 'code', 'httpservlet', 'browser', 'request', 'classes', 'javaxservlethttp', 'httpsessionbindinglistener', 'http', 'servletconfig', 'package', 'compile', 'source', 'httpsession', 'interface', 'tracking', 'httpsessionbindingevent', 'cookie', 'background', 'javaxservlet', 'handling', 'session', 'cookies', 'reading', 'simple', 'servletinputstream', 'post', 'the', 'create', 'httpservletrequest', 'requests', 'life', 'parameters', 'using', 'httpservletresponse', 'servlet', 'web', 'servletcontext', 'servletrequest', 'servletresponse', 'servletoutputstream', 'genericservlet'}\n",
      "\n",
      "\n"
     ]
    }
   ],
   "source": [
    "for key in java_topic_keys:\n",
    "    print(key)\n",
    "    print(java_topic_dict[key])\n",
    "    print('\\n')"
   ]
  },
  {
   "cell_type": "code",
   "execution_count": 7,
   "metadata": {},
   "outputs": [],
   "source": [
    "import pandas as pd\n",
    "df = pd.read_csv('./data/filtered_cleaned_posts_no_frameworks_no_alt_lang.csv')"
   ]
  },
  {
   "cell_type": "code",
   "execution_count": 9,
   "metadata": {},
   "outputs": [
    {
     "data": {
      "text/plain": [
       "(4212, 5)"
      ]
     },
     "execution_count": 9,
     "metadata": {},
     "output_type": "execute_result"
    }
   ],
   "source": [
    "df.shape"
   ]
  },
  {
   "cell_type": "markdown",
   "metadata": {},
   "source": [
    "# Cosine similarity "
   ]
  },
  {
   "cell_type": "code",
   "execution_count": 13,
   "metadata": {
    "collapsed": true
   },
   "outputs": [],
   "source": [
    "def word2vec(word):\n",
    "    from collections import Counter\n",
    "    from math import sqrt\n",
    "\n",
    "    # count the characters in word\n",
    "    cw = Counter(word)\n",
    "    # precomputes a set of the different characters\n",
    "    sw = set(cw)\n",
    "    # precomputes the \"length\" of the word vector\n",
    "    lw = sqrt(sum(c*c for c in cw.values()))\n",
    "\n",
    "    # return a tuple\n",
    "    return cw, sw, lw\n",
    "\n",
    "def cosdis(v1, v2):\n",
    "    # which characters are common to the two words?\n",
    "    common = v1[1].intersection(v2[1])\n",
    "    # by definition of cosine distance we have\n",
    "    return sum(v1[0][ch]*v2[0][ch] for ch in common)/v1[2]/v2[2]"
   ]
  },
  {
   "cell_type": "code",
   "execution_count": 54,
   "metadata": {},
   "outputs": [],
   "source": [
    "#check the test tags against each of the categories\n",
    "#test_tags = \"subclasses class subclass interface\".split()\n",
    "def assign_java_topic(tag_list):\n",
    "\n",
    "    #stores the most likely topic\n",
    "    max_topic_name = ''\n",
    "    max_topic_score = 0\n",
    "\n",
    "    for key in java_topic_keys:\n",
    "\n",
    "        topic_score = 0\n",
    "\n",
    "        for tag in tag_list:\n",
    "            va = word2vec(tag)\n",
    "\n",
    "            max_tag_score = 0\n",
    "\n",
    "            #check one category first\n",
    "            for el in java_topic_dict[key]:\n",
    "                vb = word2vec(el)\n",
    "                score = cosdis(va,vb)\n",
    "\n",
    "                if score > max_score:\n",
    "                    max_tag_score = score\n",
    "\n",
    "            topic_score += max_tag_score\n",
    "\n",
    "        #print(key)\n",
    "        #print(topic_score/len(test_tags))\n",
    "        #print('\\n')\n",
    "\n",
    "        if topic_score > max_topic_score:\n",
    "            max_topic_score = topic_score\n",
    "            max_topic_name = key\n",
    "    \n",
    "    #print(max_topic_name)\n",
    "    #print(max_topic_score/len(test_tags))\n",
    "    return max_topic_name, max_topic_score/len(tag_list)"
   ]
  },
  {
   "cell_type": "code",
   "execution_count": 52,
   "metadata": {
    "collapsed": true
   },
   "outputs": [],
   "source": [
    "test = df.head(10)"
   ]
  },
  {
   "cell_type": "code",
   "execution_count": 58,
   "metadata": {},
   "outputs": [
    {
     "name": "stdout",
     "output_type": "stream",
     "text": [
      "['arrays', 'data-structures', 'data-manipulation']\n",
      "the collections framework\n",
      "0.7907373428594296\n",
      "\n",
      "\n"
     ]
    }
   ],
   "source": [
    "topic_name, topic_score = assign_java_topic(['arrays','collections','boxing','autoboxing'])\n",
    "print(alist)\n",
    "print(topic_name)\n",
    "print(topic_score)\n",
    "print('\\n')"
   ]
  },
  {
   "cell_type": "code",
   "execution_count": 56,
   "metadata": {},
   "outputs": [
    {
     "name": "stdout",
     "output_type": "stream",
     "text": [
      "['exception', 'mocking', 'try-catch']\n",
      "input/output\n",
      "0.7317056823959455\n",
      "\n",
      "\n",
      "['generics', 'syntax']\n",
      "data types, variables, and arrays\n",
      "0.9216370213557841\n",
      "\n",
      "\n",
      "['-ee', 'jvm', 'out-of-memory', 'heap-memory']\n",
      "inheritance\n",
      "0.562600241258374\n",
      "\n",
      "\n",
      "['string', 'random', 'alphanumeric']\n",
      "utility classes\n",
      "0.8215667681599635\n",
      "\n",
      "\n",
      "['class', 'clone']\n",
      "event handling\n",
      "0.8609776486056246\n",
      "\n",
      "\n",
      "['generics']\n",
      "the collections framework\n",
      "0.9999999999999999\n",
      "\n",
      "\n",
      "['interface', 'static']\n",
      "exploring javalang\n",
      "0.8262947956344959\n",
      "\n",
      "\n",
      "['string']\n",
      "methods and classes\n",
      "1.0000000000000002\n",
      "\n",
      "\n",
      "['multithreading', 'memory-leaks']\n",
      "the concurrency utilities\n",
      "0.7770525460547252\n",
      "\n",
      "\n",
      "['arrays', 'data-structures', 'data-manipulation']\n",
      "string handling\n",
      "0.7829577041168697\n",
      "\n",
      "\n"
     ]
    }
   ],
   "source": [
    "for index, row in test.iterrows():\n",
    "    alist = test.loc[index, 'Tags'].split()\n",
    "    topic_name, topic_score = assign_java_topic(alist)\n",
    "    print(alist)\n",
    "    print(topic_name)\n",
    "    print(topic_score)\n",
    "    print('\\n')"
   ]
  },
  {
   "cell_type": "code",
   "execution_count": null,
   "metadata": {
    "collapsed": true
   },
   "outputs": [],
   "source": []
  }
 ],
 "metadata": {
  "kernelspec": {
   "display_name": "Python 3",
   "language": "python",
   "name": "python3"
  },
  "language_info": {
   "codemirror_mode": {
    "name": "ipython",
    "version": 3
   },
   "file_extension": ".py",
   "mimetype": "text/x-python",
   "name": "python",
   "nbconvert_exporter": "python",
   "pygments_lexer": "ipython3",
   "version": "3.6.1"
  }
 },
 "nbformat": 4,
 "nbformat_minor": 2
}
